{
 "cells": [
  {
   "cell_type": "markdown",
   "metadata": {},
   "source": [
    "# Example 4.7: CRR Model with parameter uncertainty"
   ]
  },
  {
   "cell_type": "markdown",
   "metadata": {},
   "source": [
    "First, include the necessary functions.\n",
    "The linear programming solver requires the gurobi package!"
   ]
  },
  {
   "cell_type": "code",
   "execution_count": 1,
   "metadata": {},
   "outputs": [
    {
     "name": "stderr",
     "output_type": "stream",
     "text": [
      "Warning message:\n",
      "\"package 'linprog' was built under R version 3.6.2\"Loading required package: lpSolve\n",
      "Warning message:\n",
      "\"package 'lpSolve' was built under R version 3.6.2\"Warning message:\n",
      "\"package 'gurobi' was built under R version 3.6.2\"Loading required package: slam\n",
      "Warning message:\n",
      "\"package 'slam' was built under R version 3.6.2\""
     ]
    }
   ],
   "source": [
    "source(file=\"functions.r\")"
   ]
  },
  {
   "cell_type": "markdown",
   "metadata": {},
   "source": [
    "First, we fix the model parameters.\n",
    "Nr. of time steps $n$, different probabilities for the computations and $S_{t_0}$."
   ]
  },
  {
   "cell_type": "code",
   "execution_count": 2,
   "metadata": {},
   "outputs": [],
   "source": [
    "n<-10 # Nr.of time steps\n",
    "N<-100 # Nr. of different P's\n",
    "S_0<-100"
   ]
  },
  {
   "cell_type": "markdown",
   "metadata": {},
   "source": [
    "Next, we choose the up-factor $u$, the down-factor $d$ and the interval of possible probabilities $[0.4,0.6]$"
   ]
  },
  {
   "cell_type": "code",
   "execution_count": 3,
   "metadata": {},
   "outputs": [],
   "source": [
    "u<-rep(1.1,N)\n",
    "d<-rep(1/u,N)\n",
    "p<-seq(0.4,0.6,length=N)"
   ]
  },
  {
   "cell_type": "markdown",
   "metadata": {},
   "source": [
    "We assign the possible values that are fixed in the model\n",
    "and corresponding admissible probabilities"
   ]
  },
  {
   "cell_type": "code",
   "execution_count": 4,
   "metadata": {},
   "outputs": [],
   "source": [
    "x<-matrix(0,N,n/2+1)\n",
    "y<-matrix(0,N,n+1)\n",
    "# probabilities\n",
    "prob_set<-array(0,dim=c(N,(n/2)+1,n+1))\n",
    "for(i in 1:N){\n",
    "  # Assigning Values\n",
    "  for(l in 0:(n/2)){\n",
    "    x[i,l+1]<-S_0*u[i]^l*d[i]^(n/2-l)\n",
    "  }\n",
    "  for(l in 0:(n)){\n",
    "    y[i,l+1]<-S_0*(u[i]^l)*d[i]^(n-l)\n",
    "  }\n",
    "  for(j in 1:((n/2)+1)){\n",
    "    for(k in 0:(n/2)){\n",
    "      # Assigning Probabilities\n",
    "      prob_set[i,j,k+j]<-dbinom(j-1,n/2,p[i])*dbinom(k,n/2,p[i])\n",
    "    }\n",
    "  }\n",
    "}"
   ]
  },
  {
   "cell_type": "markdown",
   "metadata": {},
   "source": [
    "We check if statistical arbitrage is available in the market"
   ]
  },
  {
   "cell_type": "code",
   "execution_count": 5,
   "metadata": {},
   "outputs": [
    {
     "name": "stdout",
     "output_type": "stream",
     "text": [
      "[1] \"No Statistical Arbitrage!\"\n"
     ]
    }
   ],
   "source": [
    "check_statarb(x[10,],y[10,],prob_set[10,,],S_0)"
   ]
  },
  {
   "cell_type": "markdown",
   "metadata": {},
   "source": [
    "We define our payoff function and compute associated bound"
   ]
  },
  {
   "cell_type": "code",
   "execution_count": 6,
   "metadata": {},
   "outputs": [],
   "source": [
    "# Function Definition\n",
    "func1<-function(x,y){max(0.5*(x+y)-S_0,0)}"
   ]
  },
  {
   "cell_type": "code",
   "execution_count": 7,
   "metadata": {},
   "outputs": [],
   "source": [
    "# Robust Bounds\n",
    "limit <- Inf\n",
    "lower_bound_nosa<-super_rep(x,y,prob_set,func=func1,stat_arb=F,lower=T,S_0,limit)\n",
    "lower_bound<-super_rep_robust(x,y,prob_set,func=func1,stat_arb=T,lower=T,S_0,limit)\n",
    "upper_bound<-super_rep_robust(x,y,prob_set,func=func1,stat_arb=T,lower=F,S_0,limit)\n",
    "upper_bound_nosa<-super_rep(x,y,prob_set,func=func1,stat_arb=F,lower=F,S_0,limit)"
   ]
  },
  {
   "cell_type": "code",
   "execution_count": 8,
   "metadata": {},
   "outputs": [],
   "source": [
    "# Computation of the Bounds\n",
    "limit<-Inf\n",
    "# Robust Bounds\n",
    "lower_bound_nosa<-super_rep(x,y,prob_set,func=func1,stat_arb=F,lower=T,S_0,limit)\n",
    "lower_bound<-super_rep_robust(x,y,prob_set,func=func1,stat_arb=T,lower=T,S_0,limit)\n",
    "upper_bound<-super_rep_robust(x,y,prob_set,func=func1,stat_arb=T,lower=F,S_0,limit)\n",
    "upper_bound_nosa<-super_rep(x,y,prob_set,func=func1,stat_arb=F,lower=F,S_0,limit)"
   ]
  },
  {
   "cell_type": "markdown",
   "metadata": {},
   "source": [
    "The price interval that excludes robust statistical arbitrage"
   ]
  },
  {
   "cell_type": "code",
   "execution_count": 9,
   "metadata": {},
   "outputs": [
    {
     "name": "stdout",
     "output_type": "stream",
     "text": [
      "[1] 9.354121\n",
      "[1] 9.886701\n"
     ]
    }
   ],
   "source": [
    "print(lower_bound$d)\n",
    "print(upper_bound$d)"
   ]
  },
  {
   "cell_type": "markdown",
   "metadata": {},
   "source": [
    "The price interval that excludes robust arbitrage"
   ]
  },
  {
   "cell_type": "code",
   "execution_count": 10,
   "metadata": {},
   "outputs": [
    {
     "name": "stdout",
     "output_type": "stream",
     "text": [
      "[1] 4.761905\n",
      "[1] 27.41413\n"
     ]
    }
   ],
   "source": [
    "print(lower_bound_nosa$d)\n",
    "print(upper_bound_nosa$d)"
   ]
  },
  {
   "cell_type": "markdown",
   "metadata": {},
   "source": [
    "Next, we perform the simulations"
   ]
  },
  {
   "cell_type": "markdown",
   "metadata": {},
   "source": [
    "First we assume the traded price of $c$ is 5, then we use the strategy attaining the lower bound to make a profit "
   ]
  },
  {
   "cell_type": "code",
   "execution_count": 11,
   "metadata": {
    "scrolled": true
   },
   "outputs": [
    {
     "name": "stdout",
     "output_type": "stream",
     "text": [
      "[1] \"Average Profit\"\n"
     ]
    },
    {
     "data": {
      "text/html": [
       "4.69401863665322"
      ],
      "text/latex": [
       "4.69401863665322"
      ],
      "text/markdown": [
       "4.69401863665322"
      ],
      "text/plain": [
       "[1] 4.694019"
      ]
     },
     "metadata": {},
     "output_type": "display_data"
    },
    {
     "name": "stdout",
     "output_type": "stream",
     "text": [
      "[1] \"Best Gain\"\n"
     ]
    },
    {
     "data": {
      "text/html": [
       "88.1506947464592"
      ],
      "text/latex": [
       "88.1506947464592"
      ],
      "text/markdown": [
       "88.1506947464592"
      ],
      "text/plain": [
       "[1] 88.15069"
      ]
     },
     "metadata": {},
     "output_type": "display_data"
    },
    {
     "name": "stdout",
     "output_type": "stream",
     "text": [
      "[1] \"Worst Loss\"\n"
     ]
    },
    {
     "data": {
      "text/html": [
       "-45.970684476337"
      ],
      "text/latex": [
       "-45.970684476337"
      ],
      "text/markdown": [
       "-45.970684476337"
      ],
      "text/plain": [
       "[1] -45.97068"
      ]
     },
     "metadata": {},
     "output_type": "display_data"
    },
    {
     "name": "stdout",
     "output_type": "stream",
     "text": [
      "[1] \"% Loss Scenarios\"\n"
     ]
    },
    {
     "data": {
      "text/html": [
       "0.556696"
      ],
      "text/latex": [
       "0.556696"
      ],
      "text/markdown": [
       "0.556696"
      ],
      "text/plain": [
       "[1] 0.556696"
      ]
     },
     "metadata": {},
     "output_type": "display_data"
    },
    {
     "name": "stdout",
     "output_type": "stream",
     "text": [
      "[1] \"% Gain Scenarios\"\n"
     ]
    },
    {
     "data": {
      "text/html": [
       "0.443304"
      ],
      "text/latex": [
       "0.443304"
      ],
      "text/markdown": [
       "0.443304"
      ],
      "text/plain": [
       "[1] 0.443304"
      ]
     },
     "metadata": {},
     "output_type": "display_data"
    }
   ],
   "source": [
    "Delta_0_lower<-lower_bound$Delta_0\n",
    "Delta_1_lower<-splinefun(lower_bound$x,lower_bound$Delta_1,method=\"natural\")\n",
    "\n",
    "## Statistical Arbitrage\n",
    "nr_gains<-0\n",
    "nr_losses<-0\n",
    "d_lower<-lower_bound$d\n",
    "gain<-0\n",
    "Nr_sim<-1000000\n",
    "best<-0\n",
    "worst<-0\n",
    "for(i in 1:Nr_sim){\n",
    "  random_p<-rbinom(n,1,runif(1,0.4,0.6))\n",
    "  S<-S_0*cumprod(u[1]*(random_p==1)+d[1]*(random_p==0))\n",
    "  f<-(func1(S[n/2],S[n])-Delta_0_lower*(S[n/2]-S_0)-Delta_1_lower(S[n/2])*(S[n]-S[n/2])-5)\n",
    "  gain<-gain+f\n",
    "  if(f<0){nr_losses<-nr_losses+1}\n",
    "  if(f>0){nr_gains<-nr_gains+1}\n",
    "  if(f>best){best<-f}\n",
    "  if(f<worst){worst<-f}\n",
    "}\n",
    "print(\"Average Profit\")\n",
    "gain/Nr_sim\n",
    "print(\"Best Gain\")\n",
    "best\n",
    "print(\"Worst Loss\")\n",
    "worst\n",
    "print(\"% Loss Scenarios\")\n",
    "nr_losses/Nr_sim\n",
    "print(\"% Gain Scenarios\")\n",
    "nr_gains/Nr_sim"
   ]
  },
  {
   "cell_type": "markdown",
   "metadata": {},
   "source": [
    "Next, we assume the price of $c$ is $ 9$"
   ]
  },
  {
   "cell_type": "code",
   "execution_count": 12,
   "metadata": {},
   "outputs": [
    {
     "name": "stdout",
     "output_type": "stream",
     "text": [
      "[1] \"Average Profit\"\n"
     ]
    },
    {
     "data": {
      "text/html": [
       "0.650697484520485"
      ],
      "text/latex": [
       "0.650697484520485"
      ],
      "text/markdown": [
       "0.650697484520485"
      ],
      "text/plain": [
       "[1] 0.6506975"
      ]
     },
     "metadata": {},
     "output_type": "display_data"
    },
    {
     "name": "stdout",
     "output_type": "stream",
     "text": [
      "[1] \"Best Gain\"\n"
     ]
    },
    {
     "data": {
      "text/html": [
       "84.1506947464592"
      ],
      "text/latex": [
       "84.1506947464592"
      ],
      "text/markdown": [
       "84.1506947464592"
      ],
      "text/plain": [
       "[1] 84.15069"
      ]
     },
     "metadata": {},
     "output_type": "display_data"
    },
    {
     "name": "stdout",
     "output_type": "stream",
     "text": [
      "[1] \"Worst Loss\"\n"
     ]
    },
    {
     "data": {
      "text/html": [
       "-49.970684476337"
      ],
      "text/latex": [
       "-49.970684476337"
      ],
      "text/markdown": [
       "-49.970684476337"
      ],
      "text/plain": [
       "[1] -49.97068"
      ]
     },
     "metadata": {},
     "output_type": "display_data"
    },
    {
     "name": "stdout",
     "output_type": "stream",
     "text": [
      "[1] \"% Loss Scenarios\"\n"
     ]
    },
    {
     "data": {
      "text/html": [
       "0.615284"
      ],
      "text/latex": [
       "0.615284"
      ],
      "text/markdown": [
       "0.615284"
      ],
      "text/plain": [
       "[1] 0.615284"
      ]
     },
     "metadata": {},
     "output_type": "display_data"
    },
    {
     "name": "stdout",
     "output_type": "stream",
     "text": [
      "[1] \"% Gain Scenarios\"\n"
     ]
    },
    {
     "data": {
      "text/html": [
       "0.384716"
      ],
      "text/latex": [
       "0.384716"
      ],
      "text/markdown": [
       "0.384716"
      ],
      "text/plain": [
       "[1] 0.384716"
      ]
     },
     "metadata": {},
     "output_type": "display_data"
    }
   ],
   "source": [
    "## Statistical Arbitrage\n",
    "nr_gains<-0\n",
    "nr_losses<-0\n",
    "d_lower<-lower_bound$d\n",
    "gain<-0\n",
    "Nr_sim<-1000000\n",
    "best<-0\n",
    "worst<-0\n",
    "for(i in 1:Nr_sim){\n",
    "  random_p<-rbinom(n,1,runif(1,0.4,0.6))\n",
    "  S<-S_0*cumprod(u[1]*(random_p==1)+d[1]*(random_p==0))\n",
    "  f<-(func1(S[n/2],S[n])-Delta_0_lower*(S[n/2]-S_0)-Delta_1_lower(S[n/2])*(S[n]-S[n/2])-9)\n",
    "  gain<-gain+f\n",
    "  if(f<0){nr_losses<-nr_losses+1}\n",
    "  if(f>0){nr_gains<-nr_gains+1}\n",
    "  if(f>best){best<-f}\n",
    "  if(f<worst){worst<-f}\n",
    "}\n",
    "print(\"Average Profit\")\n",
    "gain/Nr_sim\n",
    "print(\"Best Gain\")\n",
    "best\n",
    "print(\"Worst Loss\")\n",
    "worst\n",
    "print(\"% Loss Scenarios\")\n",
    "nr_losses/Nr_sim\n",
    "print(\"% Gain Scenarios\")\n",
    "nr_gains/Nr_sim"
   ]
  },
  {
   "cell_type": "markdown",
   "metadata": {},
   "source": [
    "Next, we assume the price of $c$ is $10$, then we use the strategy attaining the upper bound"
   ]
  },
  {
   "cell_type": "code",
   "execution_count": 13,
   "metadata": {},
   "outputs": [
    {
     "name": "stdout",
     "output_type": "stream",
     "text": [
      "[1] \"Average Profit\"\n"
     ]
    },
    {
     "data": {
      "text/html": [
       "0.392579010024862"
      ],
      "text/latex": [
       "0.392579010024862"
      ],
      "text/markdown": [
       "0.392579010024862"
      ],
      "text/plain": [
       "[1] 0.392579"
      ]
     },
     "metadata": {},
     "output_type": "display_data"
    },
    {
     "name": "stdout",
     "output_type": "stream",
     "text": [
      "[1] \"Best Gain\"\n"
     ]
    },
    {
     "data": {
      "text/html": [
       "52.5306343582361"
      ],
      "text/latex": [
       "52.5306343582361"
      ],
      "text/markdown": [
       "52.5306343582361"
      ],
      "text/plain": [
       "[1] 52.53063"
      ]
     },
     "metadata": {},
     "output_type": "display_data"
    },
    {
     "name": "stdout",
     "output_type": "stream",
     "text": [
      "[1] \"Worst Loss\"\n"
     ]
    },
    {
     "data": {
      "text/html": [
       "-98.9276245855421"
      ],
      "text/latex": [
       "-98.9276245855421"
      ],
      "text/markdown": [
       "-98.9276245855421"
      ],
      "text/plain": [
       "[1] -98.92762"
      ]
     },
     "metadata": {},
     "output_type": "display_data"
    },
    {
     "name": "stdout",
     "output_type": "stream",
     "text": [
      "[1] \"% Loss Scenarios\"\n"
     ]
    },
    {
     "data": {
      "text/html": [
       "0.382437"
      ],
      "text/latex": [
       "0.382437"
      ],
      "text/markdown": [
       "0.382437"
      ],
      "text/plain": [
       "[1] 0.382437"
      ]
     },
     "metadata": {},
     "output_type": "display_data"
    },
    {
     "name": "stdout",
     "output_type": "stream",
     "text": [
      "[1] \"% Gain Scenarios\"\n"
     ]
    },
    {
     "data": {
      "text/html": [
       "0.617563"
      ],
      "text/latex": [
       "0.617563"
      ],
      "text/markdown": [
       "0.617563"
      ],
      "text/plain": [
       "[1] 0.617563"
      ]
     },
     "metadata": {},
     "output_type": "display_data"
    }
   ],
   "source": [
    "Delta_0_upper<-upper_bound$Delta_0\n",
    "Delta_1_upper<-splinefun(upper_bound$x,upper_bound$Delta_1,method=\"natural\")\n",
    "\n",
    "\n",
    "nr_gains<-0\n",
    "nr_losses<-0\n",
    "d_upper<-upper_bound$d\n",
    "gain<-0\n",
    "Nr_sim<-1000000\n",
    "best<-0\n",
    "worst<-0\n",
    "for(i in 1:Nr_sim){\n",
    "  random_p<-rbinom(n,1,runif(1,0.4,0.6))\n",
    "  S<-S_0*cumprod(u[1]*(random_p==1)+d[1]*(random_p==0))\n",
    "  f<-(-func1(S[n/2],S[n])+Delta_0_upper*(S[n/2]-S_0)+Delta_1_upper(S[n/2])*(S[n]-S[n/2])+10)\n",
    "  gain<-gain+f\n",
    "  if(f<0){nr_losses<-nr_losses+1}\n",
    "  if(f>0){nr_gains<-nr_gains+1}\n",
    "  if(f>best){best<-f}\n",
    "  if(f<worst){worst<-f}\n",
    "}\n",
    "print(\"Average Profit\")\n",
    "gain/Nr_sim\n",
    "print(\"Best Gain\")\n",
    "best\n",
    "print(\"Worst Loss\")\n",
    "worst\n",
    "print(\"% Loss Scenarios\")\n",
    "nr_losses/Nr_sim\n",
    "print(\"% Gain Scenarios\")\n",
    "nr_gains/Nr_sim"
   ]
  },
  {
   "cell_type": "markdown",
   "metadata": {},
   "source": [
    "Next, we assume the price of $c$ is $20$"
   ]
  },
  {
   "cell_type": "code",
   "execution_count": 14,
   "metadata": {},
   "outputs": [
    {
     "name": "stdout",
     "output_type": "stream",
     "text": [
      "[1] \"Average Profit\"\n"
     ]
    },
    {
     "data": {
      "text/html": [
       "10.3781680538075"
      ],
      "text/latex": [
       "10.3781680538075"
      ],
      "text/markdown": [
       "10.3781680538075"
      ],
      "text/plain": [
       "[1] 10.37817"
      ]
     },
     "metadata": {},
     "output_type": "display_data"
    },
    {
     "name": "stdout",
     "output_type": "stream",
     "text": [
      "[1] \"Best Gain\"\n"
     ]
    },
    {
     "data": {
      "text/html": [
       "62.5306343582361"
      ],
      "text/latex": [
       "62.5306343582361"
      ],
      "text/markdown": [
       "62.5306343582361"
      ],
      "text/plain": [
       "[1] 62.53063"
      ]
     },
     "metadata": {},
     "output_type": "display_data"
    },
    {
     "name": "stdout",
     "output_type": "stream",
     "text": [
      "[1] \"Worst Loss\"\n"
     ]
    },
    {
     "data": {
      "text/html": [
       "-88.9276245855421"
      ],
      "text/latex": [
       "-88.9276245855421"
      ],
      "text/markdown": [
       "-88.9276245855421"
      ],
      "text/plain": [
       "[1] -88.92762"
      ]
     },
     "metadata": {},
     "output_type": "display_data"
    },
    {
     "name": "stdout",
     "output_type": "stream",
     "text": [
      "[1] \"% Loss Scenarios\"\n"
     ]
    },
    {
     "data": {
      "text/html": [
       "0.209598"
      ],
      "text/latex": [
       "0.209598"
      ],
      "text/markdown": [
       "0.209598"
      ],
      "text/plain": [
       "[1] 0.209598"
      ]
     },
     "metadata": {},
     "output_type": "display_data"
    },
    {
     "name": "stdout",
     "output_type": "stream",
     "text": [
      "[1] \"% Gain Scenarios\"\n"
     ]
    },
    {
     "data": {
      "text/html": [
       "0.790402"
      ],
      "text/latex": [
       "0.790402"
      ],
      "text/markdown": [
       "0.790402"
      ],
      "text/plain": [
       "[1] 0.790402"
      ]
     },
     "metadata": {},
     "output_type": "display_data"
    }
   ],
   "source": [
    "nr_gains<-0\n",
    "nr_losses<-0\n",
    "d_upper<-upper_bound$d\n",
    "gain<-0\n",
    "Nr_sim<-1000000\n",
    "best<-0\n",
    "worst<-0\n",
    "for(i in 1:Nr_sim){\n",
    "  random_p<-rbinom(n,1,runif(1,0.4,0.6))\n",
    "  S<-S_0*cumprod(u[1]*(random_p==1)+d[1]*(random_p==0))\n",
    "  f<-(-func1(S[n/2],S[n])+Delta_0_upper*(S[n/2]-S_0)+Delta_1_upper(S[n/2])*(S[n]-S[n/2])+20)\n",
    "  gain<-gain+f\n",
    "  if(f<0){nr_losses<-nr_losses+1}\n",
    "  if(f>0){nr_gains<-nr_gains+1}\n",
    "  if(f>best){best<-f}\n",
    "  if(f<worst){worst<-f}\n",
    "}\n",
    "print(\"Average Profit\")\n",
    "gain/Nr_sim\n",
    "print(\"Best Gain\")\n",
    "best\n",
    "print(\"Worst Loss\")\n",
    "worst\n",
    "print(\"% Loss Scenarios\")\n",
    "nr_losses/Nr_sim\n",
    "print(\"% Gain Scenarios\")\n",
    "nr_gains/Nr_sim"
   ]
  }
 ],
 "metadata": {
  "kernelspec": {
   "display_name": "R",
   "language": "R",
   "name": "ir"
  },
  "language_info": {
   "codemirror_mode": "r",
   "file_extension": ".r",
   "mimetype": "text/x-r-source",
   "name": "R",
   "pygments_lexer": "r",
   "version": "3.6.1"
  }
 },
 "nbformat": 4,
 "nbformat_minor": 4
}
