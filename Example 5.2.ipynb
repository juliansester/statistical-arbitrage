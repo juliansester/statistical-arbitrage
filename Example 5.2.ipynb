{
 "cells": [
  {
   "cell_type": "markdown",
   "metadata": {},
   "source": [
    "# Example 5.2: CRR Model with uncertainty about $\\kappa$"
   ]
  },
  {
   "cell_type": "markdown",
   "metadata": {},
   "source": [
    "First, include the necessary functions.\n",
    "The linear programming solver requires the gurobi package!"
   ]
  },
  {
   "cell_type": "code",
   "execution_count": 3,
   "metadata": {},
   "outputs": [
    {
     "name": "stderr",
     "output_type": "stream",
     "text": [
      "Warning message:\n",
      "\"package 'linprog' was built under R version 3.6.2\"Loading required package: lpSolve\n",
      "Warning message:\n",
      "\"package 'lpSolve' was built under R version 3.6.2\"Warning message:\n",
      "\"package 'gurobi' was built under R version 3.6.2\"Loading required package: slam\n",
      "Warning message:\n",
      "\"package 'slam' was built under R version 3.6.2\""
     ]
    }
   ],
   "source": [
    "source(file=\"functions.r\")"
   ]
  },
  {
   "cell_type": "markdown",
   "metadata": {},
   "source": [
    "We first define the AR(1) Function to simulate the process"
   ]
  },
  {
   "cell_type": "code",
   "execution_count": 4,
   "metadata": {},
   "outputs": [],
   "source": [
    "# Ar_1 Function for simulations\n",
    "AR_1<-function(t=0.1,N=10000,mu=100,k=0.1,sigma=20,plot=T,plot_threshold=2*sigma,S_0=100){\n",
    "  norm_rv<-rnorm(N,mean=0,sd=t*sigma)\n",
    "  #  norm_rv<-rep(1,N)\n",
    "  Y<-numeric(N)\n",
    "  Y[1]<-S_0\n",
    "  for(i in 2:N){\n",
    "    Y[i]<-Y[i-1]+k*(mu-Y[i-1])*t+norm_rv[i]\n",
    "  }\n",
    "  # Y<-arima.sim(list( ar=(1-k*t),innov=(norm_rv+rep(k*mu*t,N))),n.start = 1,start.innov = mu,n=N)[1:N]\n",
    "  if(plot){\n",
    "    plot(1:N,Y,type='l',col=\"black\",lwd=0.5,xlab=\"Time\",ylab=\"Spread\")\n",
    "    abline(h=mu+plot_threshold,lty=2)\n",
    "    abline(h=mu,lty=2)\n",
    "    abline(h=mu-plot_threshold,lty=2)\n",
    "  }\n",
    "  return(Y)\n",
    "  \n",
    "}"
   ]
  },
  {
   "cell_type": "markdown",
   "metadata": {},
   "source": [
    "Then we set the parameters (with uncertainty in the mean $\\kappa \\in [0.005,0.1]$, here modelled by the variable $kk$)"
   ]
  },
  {
   "cell_type": "code",
   "execution_count": 3,
   "metadata": {},
   "outputs": [],
   "source": [
    "N<-5 # different Parameters\n",
    "n<-100 # time steps \n",
    "n_discr<-50\n",
    "time_diff<-1\n",
    "kk<-seq(0.005,0.1,length=N)\n",
    "# Setting Parameters\n",
    "mu<-seq(0,0,length=N)\n",
    "sigma<-seq(1,1,length=N)\n",
    "S_0<-0\n",
    "## Values\n",
    "x<-matrix(0,N,n_discr)\n",
    "y<-matrix(0,N,n_discr)\n",
    "standard_dev<-0\n",
    "for(j in 0:(n/2)){\n",
    "  standard_dev<-standard_dev+((1-kk*time_diff)^j)*sigma*time_diff\n",
    "}\n",
    "standard_dev<-sqrt(standard_dev)\n",
    "## randomize\n",
    "kk<-sample(kk,N)\n",
    "mu<-sample(mu,N)\n",
    "sigma<-sample(sigma,N)\n",
    "\n",
    "# probabilities\n",
    "prob_set<-array(0,dim=c(N,n_discr,n_discr))\n",
    "for(i in 1:N){\n",
    "  # Assigning Values\n",
    "  x[i,]<-seq(S_0-50,S_0+50,length=n_discr)\n",
    "  y[i,]<-seq(S_0-50,S_0+50,length=n_discr)\n",
    "  for(j in 1:n_discr){\n",
    "    for(k in 1:n_discr){\n",
    "      # Assigning Probabilities\n",
    "      prob_set[i,j,k]<-dnorm(x[i,j],mean=mu[i]*(1-(1-kk[i]*time_diff)^(n/2))+((1-kk[i]*time_diff)^(n/2))*S_0,sd=standard_dev[i])*dnorm(y[i,k],mean=mu[i]*(1-(1-kk[i]*time_diff)^(n/2))+((1-kk[i]*time_diff)^(n/2))*x[i,j],sd=standard_dev[i])\n",
    "    }\n",
    "  }\n",
    "  prob_set[i,,]<-prob_set[i,,]/sum(prob_set[i,,])\n",
    "}\n",
    "\n",
    "### Removing too low probabilities\n",
    "epsilon<-0.0001\n",
    "for(i in 1:N){\n",
    "  for(j in 1:n_discr){\n",
    "    for(k in 1:n_discr){\n",
    "      if((prob_set[i,j,k])<epsilon){\n",
    "        prob_set[i,j,k]<-0\n",
    "      }\n",
    "    }\n",
    "  }\n",
    "  prob_set[i,,]<-prob_set[i,,]/sum(prob_set[i,,])\n",
    "}"
   ]
  },
  {
   "cell_type": "markdown",
   "metadata": {},
   "source": [
    "We consider as \"payoff function\" $c(x,y) \\equiv 0$ to compute statistical arbtirage strategies. The maximal investment amount is set to $K =10$"
   ]
  },
  {
   "cell_type": "code",
   "execution_count": 4,
   "metadata": {},
   "outputs": [
    {
     "name": "stdout",
     "output_type": "stream",
     "text": [
      "[1] \"There is Statistical Arbitrage\"\n"
     ]
    }
   ],
   "source": [
    "func1<-function(x,y){0}\n",
    "\n",
    "# Computation of the Bounds\n",
    "limit<-10\n",
    "\n",
    "# Robust Bounds\n",
    "check_statarb(x[1,],y[1,],prob_set[1,,],S_0)\n",
    "lower_bound_nosa<-super_rep(x,y,prob_set,func=func1,stat_arb=F,lower=T,S_0,limit)\n",
    "lower_bound<-super_rep_robust(x,y,prob_set,func=func1,stat_arb=T,lower=T,S_0,limit)\n",
    "upper_bound<-super_rep_robust(x,y,prob_set,func=func1,stat_arb=T,lower=F,S_0,limit)\n",
    "upper_bound_nosa<-super_rep(x,y,prob_set,func=func1,stat_arb=F,lower=F,S_0,limit)"
   ]
  },
  {
   "cell_type": "markdown",
   "metadata": {},
   "source": [
    "We simulate the profit arising from the above computed statistical arbitrage strategy"
   ]
  },
  {
   "cell_type": "code",
   "execution_count": 5,
   "metadata": {},
   "outputs": [
    {
     "name": "stdout",
     "output_type": "stream",
     "text": [
      "[1] \"Average Profit\"\n"
     ]
    },
    {
     "data": {
      "text/html": [
       "2.98002318760925e-05"
      ],
      "text/latex": [
       "2.98002318760925e-05"
      ],
      "text/markdown": [
       "2.98002318760925e-05"
      ],
      "text/plain": [
       "[1] 2.980023e-05"
      ]
     },
     "metadata": {},
     "output_type": "display_data"
    },
    {
     "name": "stdout",
     "output_type": "stream",
     "text": [
      "[1] \"Best Gain\"\n"
     ]
    },
    {
     "data": {
      "text/html": [
       "179.294606433306"
      ],
      "text/latex": [
       "179.294606433306"
      ],
      "text/markdown": [
       "179.294606433306"
      ],
      "text/plain": [
       "[1] 179.2946"
      ]
     },
     "metadata": {},
     "output_type": "display_data"
    },
    {
     "name": "stdout",
     "output_type": "stream",
     "text": [
      "[1] \"Worst Loss\"\n"
     ]
    },
    {
     "data": {
      "text/html": [
       "-206.529627103483"
      ],
      "text/latex": [
       "-206.529627103483"
      ],
      "text/markdown": [
       "-206.529627103483"
      ],
      "text/plain": [
       "[1] -206.5296"
      ]
     },
     "metadata": {},
     "output_type": "display_data"
    },
    {
     "name": "stdout",
     "output_type": "stream",
     "text": [
      "[1] \"% Loss Scenarios\"\n"
     ]
    },
    {
     "data": {
      "text/html": [
       "0.499623"
      ],
      "text/latex": [
       "0.499623"
      ],
      "text/markdown": [
       "0.499623"
      ],
      "text/plain": [
       "[1] 0.499623"
      ]
     },
     "metadata": {},
     "output_type": "display_data"
    },
    {
     "name": "stdout",
     "output_type": "stream",
     "text": [
      "[1] \"% Gain Scenarios\"\n"
     ]
    },
    {
     "data": {
      "text/html": [
       "0.500377"
      ],
      "text/latex": [
       "0.500377"
      ],
      "text/markdown": [
       "0.500377"
      ],
      "text/plain": [
       "[1] 0.500377"
      ]
     },
     "metadata": {},
     "output_type": "display_data"
    }
   ],
   "source": [
    "# Simulations\n",
    "## Statistical Arbitrage\n",
    "Delta_0_upper<-upper_bound$Delta_0\n",
    "kk<-sample(kk,N)\n",
    "mu<-sample(mu,N)\n",
    "sigma<-sample(sigma,N)\n",
    "Delta_1_upper<-splinefun(upper_bound$x,upper_bound$Delta_1,method=\"natural\")\n",
    "#plot(upper_bound$x,Delta_1_upper(upper_bound$x),type=\"l\")\n",
    "nr_gains<-0\n",
    "nr_losses<-0\n",
    "d_upper<-upper_bound$d\n",
    "gain<-0\n",
    "Nr_sim<-1000000\n",
    "best<-0\n",
    "worst<-0\n",
    "ff1<-numeric(Nr_sim)\n",
    "for(i in 1:Nr_sim){\n",
    "  ii<-sample(1:N,1) # choosing random parameter\n",
    "  jj<-sample(1:N,1) \n",
    "  ll<-sample(1:N,1)\n",
    "  S<-AR_1(t=time_diff,N=n+1,mu=mu[ii],k=kk[jj],sigma=sigma[ll],plot=F,plot_threshold=2*sigma,S_0=S_0)\n",
    "  f<-(Delta_0_upper*(S[n/2]-S_0)+Delta_1_upper(S[n/2])*(S[n]-S[n/2]))\n",
    "  ff1[i]<-f\n",
    "  gain<-gain+f\n",
    "  if(f<0){nr_losses<-nr_losses+1}\n",
    "  if(f>0){nr_gains<-nr_gains+1}\n",
    "  if(f>best){best<-f}\n",
    "  if(f<worst){worst<-f}\n",
    "}\n",
    "print(\"Average Profit\")\n",
    "gain/Nr_sim\n",
    "print(\"Best Gain\")\n",
    "best\n",
    "print(\"Worst Loss\")\n",
    "worst\n",
    "print(\"% Loss Scenarios\")\n",
    "nr_losses/Nr_sim\n",
    "print(\"% Gain Scenarios\")\n",
    "nr_gains/Nr_sim"
   ]
  },
  {
   "cell_type": "markdown",
   "metadata": {},
   "source": [
    "We define delta strategies for pairs trading"
   ]
  },
  {
   "cell_type": "code",
   "execution_count": 10,
   "metadata": {},
   "outputs": [],
   "source": [
    "########## Delta Strategies ###############\n",
    "################# PAIRS TRADING ###########\n",
    "Delta_strat<-function(N,eps=20,delta=0.001,Y,mu=0,intermediate_NR=N-1){\n",
    "  ## Define Trading Points\n",
    "  trading_times<-round(seq(N/(intermediate_NR+1),N*intermediate_NR/(intermediate_NR+1),length=intermediate_NR)+1,0)\n",
    "  Delta<-numeric(N)\n",
    "  for(i in 2:N){\n",
    "    if((Y[i]>=(mu+eps))*(Delta[i-1]==0)*(i %in% trading_times)){\n",
    "      Delta[i]<-(Delta [i-1]-1)\n",
    "    }\n",
    "    else if((Y[i]>=(mu-delta))*(Delta[i-1]==1)*(i %in% trading_times)){\n",
    "      Delta[i]<-(Delta [i-1]-1)\n",
    "    }\n",
    "    else if((Y[i]<=(mu-eps))*(Delta[i-1]==0)*(i %in% trading_times)){\n",
    "      Delta[i]<-(Delta [i-1]+1)\n",
    "    }\n",
    "    else if((Y[i]<=(mu+delta))*(Delta[i-1]==(-1))*(i %in% trading_times)){\n",
    "      Delta[i]<-(Delta [i-1]+1)\n",
    "    }\n",
    "    else{\n",
    "      Delta[i]<-(Delta [i-1])\n",
    "    }\n",
    "  }\n",
    "  return(Delta)\n",
    "}\n",
    "Gain<-function(Delta,N,S){\n",
    "  G<-numeric(N)\n",
    "  for(i in 2:N){\n",
    "    G[i]<-Delta[i-1]*(S[i]-S[i-1])\n",
    "  }\n",
    "  G<-cumsum(G)\n",
    "  # print(G[N])\n",
    "  return(G)\n",
    "}"
   ]
  },
  {
   "cell_type": "markdown",
   "metadata": {},
   "source": [
    "and compute their profit in this scenario"
   ]
  },
  {
   "cell_type": "code",
   "execution_count": 7,
   "metadata": {},
   "outputs": [
    {
     "name": "stdout",
     "output_type": "stream",
     "text": [
      "[1] \"Average Profit\"\n"
     ]
    },
    {
     "data": {
      "text/html": [
       "9.75998734154428"
      ],
      "text/latex": [
       "9.75998734154428"
      ],
      "text/markdown": [
       "9.75998734154428"
      ],
      "text/plain": [
       "[1] 9.759987"
      ]
     },
     "metadata": {},
     "output_type": "display_data"
    },
    {
     "name": "stdout",
     "output_type": "stream",
     "text": [
      "[1] \"Best Gain\"\n"
     ]
    },
    {
     "data": {
      "text/html": [
       "41.5515624284831"
      ],
      "text/latex": [
       "41.5515624284831"
      ],
      "text/markdown": [
       "41.5515624284831"
      ],
      "text/plain": [
       "[1] 41.55156"
      ]
     },
     "metadata": {},
     "output_type": "display_data"
    },
    {
     "name": "stdout",
     "output_type": "stream",
     "text": [
      "[1] \"Worst Loss\"\n"
     ]
    },
    {
     "data": {
      "text/html": [
       "-35.271084821577"
      ],
      "text/latex": [
       "-35.271084821577"
      ],
      "text/markdown": [
       "-35.271084821577"
      ],
      "text/plain": [
       "[1] -35.27108"
      ]
     },
     "metadata": {},
     "output_type": "display_data"
    },
    {
     "name": "stdout",
     "output_type": "stream",
     "text": [
      "[1] \"% Loss Scenarios\"\n"
     ]
    },
    {
     "data": {
      "text/html": [
       "0.098863"
      ],
      "text/latex": [
       "0.098863"
      ],
      "text/markdown": [
       "0.098863"
      ],
      "text/plain": [
       "[1] 0.098863"
      ]
     },
     "metadata": {},
     "output_type": "display_data"
    },
    {
     "name": "stdout",
     "output_type": "stream",
     "text": [
      "[1] \"% Gain Scenarios\"\n"
     ]
    },
    {
     "data": {
      "text/html": [
       "0.901137"
      ],
      "text/latex": [
       "0.901137"
      ],
      "text/markdown": [
       "0.901137"
      ],
      "text/plain": [
       "[1] 0.901137"
      ]
     },
     "metadata": {},
     "output_type": "display_data"
    }
   ],
   "source": [
    "#epsilon=2*sigma\n",
    "nr_gains<-0\n",
    "nr_losses<-0\n",
    "gain<-0\n",
    "Nr_sim<-1000000\n",
    "best<-0\n",
    "worst<-0\n",
    "ff2<-numeric(Nr_sim)\n",
    "for(sim in 1:Nr_sim){\n",
    "  ii<-sample(1:N,1) # choosing random parameter\n",
    "  jj<-sample(1:N,1) \n",
    "  ll<-sample(1:N,1)\n",
    "  S<-AR_1(t=time_diff,N=n+1,mu=mu[ii],k=kk[jj],sigma=sigma[ll],plot=F,plot_threshold=2*sigma,S_0=S_0)\n",
    "  D1<-Delta_strat(N=n+1,eps=2*sigma[ii],delta=0.001,S,mu[ii])\n",
    "  f<-Gain(D1,(n+1),S)[n+1]\n",
    "  ff2[sim]<-f\n",
    "  gain<-gain+f\n",
    "  if(f<0){nr_losses<-nr_losses+1}\n",
    "  if(f>=0){nr_gains<-nr_gains+1}\n",
    "  if(f>best){best<-f}\n",
    "  if(f<worst){worst<-f}\n",
    "}\n",
    "print(\"Average Profit\")\n",
    "gain/Nr_sim\n",
    "print(\"Best Gain\")\n",
    "best\n",
    "print(\"Worst Loss\")\n",
    "worst\n",
    "print(\"% Loss Scenarios\")\n",
    "nr_losses/Nr_sim\n",
    "print(\"% Gain Scenarios\")\n",
    "nr_gains/Nr_sim"
   ]
  },
  {
   "cell_type": "markdown",
   "metadata": {},
   "source": [
    "We plot the corresponding histograms"
   ]
  },
  {
   "cell_type": "code",
   "execution_count": 8,
   "metadata": {},
   "outputs": [
    {
     "data": {
      "image/png": "[encoded data removed]",
      "text/plain": [
       "Plot with title \"Pairs Trading with Epsilon = 2sigma\""
      ]
     },
     "metadata": {},
     "output_type": "display_data"
    }
   ],
   "source": [
    "par(mfrow=c(1,2))\n",
    "par(mar=c(2.5, 4.5,1.5, 1.5))\n",
    "hist(ff1,xlab=\"Average Gain\",main=\"Statistical Arbitrage\",breaks=50)\n",
    "hist(ff2,xlab=\"Average Gain\",main=\"Pairs Trading with Epsilon = 2sigma\",breaks=50)"
   ]
  },
  {
   "cell_type": "markdown",
   "metadata": {},
   "source": [
    "We define a function for the consideration of more trading points"
   ]
  },
  {
   "cell_type": "code",
   "execution_count": 2,
   "metadata": {},
   "outputs": [],
   "source": [
    "################ More trading points #########################\n",
    "more_trading<-function(Nr_sim=1000,nr_trading_points=1,bad_scenarios=F){\n",
    "\n",
    "f<-0\n",
    "nr_gains<-0\n",
    "nr_losses<-0\n",
    "gain<-0\n",
    "best<-0\n",
    "worst<-0\n",
    "standard_dev<-0\n",
    "for(j in 0:(n/(nr_trading_points+1))){\n",
    "  standard_dev<-standard_dev+((1-kk*time_diff)^j)*sigma*time_diff\n",
    "}\n",
    "standard_dev<-sqrt(standard_dev)\n",
    "\n",
    "if(bad_scenarios){\n",
    "  ff<-NULL\n",
    "  for(s in bad_seeds){\n",
    "    set.seed(s)\n",
    "    S<-AR_1(time_diff,N=n+1,mu[1],k=kk[1],sigma[1],plot=F,plot_threshold = 2*sigma,S_0=S_0)\n",
    "  for(h in 1:nr_trading_points){\n",
    "    ## Values\n",
    "    x<-matrix(0,N,n_discr)\n",
    "    y<-matrix(0,N,n_discr)\n",
    "    \n",
    "    # probabilities\n",
    "    prob_set<-array(0,dim=c(N,n_discr,n_discr))\n",
    "    for(i in 1:N){\n",
    "      # Assigning Values\n",
    "      x[i,]<-seq(S_0-50/nr_trading_points,S_0+50/nr_trading_points,length=n_discr)\n",
    "      y[i,]<-seq(S_0-50/nr_trading_points,S_0+50/nr_trading_points,length=n_discr)\n",
    "      for(j in 1:n_discr){\n",
    "        for(k in 1:n_discr){\n",
    "          # Assigning Probabilities\n",
    "          prob_set[i,j,k]<-dnorm(x[i,j],mean=mu[i]*(1-(1-kk[i]*time_diff)^((n/(nr_trading_points+1))))+((1-kk[i]*time_diff)^((n/(nr_trading_points+1))))*S_0,sd=standard_dev[i])*dnorm(y[i,k],mean=mu[i]*(1-(1-kk[i]*time_diff)^(n/(nr_trading_points+1)))+((1-kk[i]*time_diff)^(n/(nr_trading_points+1)))*x[i,j],sd=standard_dev[i])\n",
    "        }\n",
    "      }\n",
    "      prob_set[i,,]<-prob_set[i,,]/sum(prob_set[i,,])\n",
    "    }\n",
    "    \n",
    "    \n",
    "    \n",
    "    # Robust Bounds\n",
    "    upper_bound<-super_rep_robust(x,y,prob_set,func=function(x,y){0},stat_arb=T,lower=F,S_0,limit=10)\n",
    "    Delta_0_upper<-upper_bound$Delta_0\n",
    "    Delta_1_upper<-splinefun(upper_bound$x,upper_bound$Delta_1,method=\"natural\")\n",
    "    \n",
    "    \n",
    "    \n",
    "    f<-f+(Delta_0_upper*(S[(h*n)/(nr_trading_points+1)]-S_0)+Delta_1_upper(S[((h)*n)/(nr_trading_points+1)])*(S[((h+1)*n)/(nr_trading_points+1)]-S[(h*n)/(nr_trading_points+1)]))\n",
    "    S_0<-S[(h*n)/(nr_trading_points+1)]\n",
    "\n",
    "  }\n",
    "  ff<-c(ff,f)\n",
    "  gain<-gain+f\n",
    "  if(f<0){nr_losses<-nr_losses+1}\n",
    "  if(f>0){nr_gains<-nr_gains+1}\n",
    "  if(f>best){best<-f}\n",
    "  if(f<worst){worst<-f}\n",
    "  f<-0\n",
    "  S_0<-0\n",
    "  \n",
    "  }\n",
    "  hist(ff,xlab=\"Average Gain\",main=paste(\"Stat. Arb with \",  nr_trading_points, \" Trades\", sep=\" \"),breaks=50)\n",
    "  return(list(\n",
    "    AVERAGE_GAIN=round(gain/length(bad_seeds),2),\n",
    "    BEST=round(best,2),\n",
    "    WORST=round(worst,2),\n",
    "    LOSSES=round(100*nr_losses/length(bad_seeds),2),\n",
    "    GAINS=round(100*nr_gains/length(bad_seeds),2)\n",
    "  )\n",
    "  )\n",
    "}\n",
    "else{\n",
    "  ff<-numeric(Nr_sim)\n",
    "\n",
    "for(sim in 1:Nr_sim){\n",
    "  ii<-sample(1:N,1) # choosing random parameter\n",
    "  S<-AR_1(t=time_diff,N=n,mu=mu[ii],k=kk[ii],sigma=sigma[ii],plot=F,plot_threshold=2*sigma,S_0=S_0)\n",
    "  for(h in 1:nr_trading_points){\n",
    "    ## Values\n",
    "    x<-matrix(0,N,n_discr)\n",
    "    y<-matrix(0,N,n_discr)\n",
    "    \n",
    "    # probabilities\n",
    "    prob_set<-array(0,dim=c(N,n_discr,n_discr))\n",
    "    for(i in 1:N){\n",
    "      # Assigning Values\n",
    "      x[i,]<-seq(S_0-50/nr_trading_points,S_0+50/nr_trading_points,length=n_discr)\n",
    "      y[i,]<-seq(S_0-50/nr_trading_points,S_0+50/nr_trading_points,length=n_discr)\n",
    "      for(j in 1:n_discr){\n",
    "        for(k in 1:n_discr){\n",
    "          # Assigning Probabilities\n",
    "          prob_set[i,j,k]<-dnorm(x[i,j],mean=mu[i]*(1-(1-kk[i]*time_diff)^((n/(nr_trading_points+1))))+((1-kk[i]*time_diff)^((n/(nr_trading_points+1))))*S_0,sd=standard_dev[i])*dnorm(y[i,k],mean=mu[i]*(1-(1-kk[i]*time_diff)^(n/(nr_trading_points+1)))+((1-kk[i]*time_diff)^(n/(nr_trading_points+1)))*x[i,j],sd=standard_dev[i])\n",
    "        }\n",
    "      }\n",
    "      prob_set[i,,]<-prob_set[i,,]/sum(prob_set[i,,])\n",
    "    } \n",
    "    \n",
    "    \n",
    "    # Robust Bounds\n",
    "    upper_bound<-super_rep_robust(x,y,prob_set,func=function(x,y){0},stat_arb=T,lower=F,S_0,limit=10)\n",
    "    Delta_0_upper<-upper_bound$Delta_0\n",
    "    Delta_1_upper<-splinefun(upper_bound$x,upper_bound$Delta_1,method=\"natural\")\n",
    "    \n",
    "    \n",
    "    \n",
    "    f<-f+(Delta_0_upper*(S[(h*n)/(nr_trading_points+1)]-S_0)+Delta_1_upper(S[((h)*n)/(nr_trading_points+1)])*(S[((h+1)*n)/(nr_trading_points+1)]-S[(h*n)/(nr_trading_points+1)]))\n",
    "    S_0<-S[(h*n)/(nr_trading_points+1)]\n",
    "    ff[sim]<-f\n",
    "  }\n",
    "  gain<-gain+f\n",
    "  if(f<0){nr_losses<-nr_losses+1}\n",
    "  if(f>0){nr_gains<-nr_gains+1}\n",
    "  if(f>best){best<-f}\n",
    "  if(f<worst){worst<-f}\n",
    "  f<-0\n",
    "  S_0<-0\n",
    "}\n",
    "}\n",
    "    hist(ff,xlab=\"Average Gain\",main=paste(\"Stat. Arb with \",  nr_trading_points, \" Trades\", sep=\" \"),breaks=50)\n",
    "return(list(\n",
    "AVERAGE_GAIN=round(gain/Nr_sim,2),\n",
    "BEST=round(best,2),\n",
    "WORST=round(worst,2),\n",
    "LOSSES=round(100*nr_losses/Nr_sim,2),\n",
    "GAINS=round(100*nr_gains/Nr_sim,2)\n",
    ")\n",
    ")\n",
    "\n",
    "}"
   ]
  },
  {
   "cell_type": "markdown",
   "metadata": {},
   "source": [
    "We show in a histogram the associated average gain"
   ]
  },
  {
   "cell_type": "markdown",
   "metadata": {},
   "source": [
    "We compare the profits from more than 1 trading point (Takes some time when increasing the number of scenarios)"
   ]
  },
  {
   "cell_type": "code",
   "execution_count": 10,
   "metadata": {},
   "outputs": [
    {
     "name": "stdout",
     "output_type": "stream",
     "text": [
      "[1] \"1 Trade\"\n"
     ]
    },
    {
     "data": {
      "text/html": [
       "<dl>\n",
       "\t<dt>$AVERAGE_GAIN</dt>\n",
       "\t\t<dd>-1.07</dd>\n",
       "\t<dt>$BEST</dt>\n",
       "\t\t<dd>69.78</dd>\n",
       "\t<dt>$WORST</dt>\n",
       "\t\t<dd>-113.54</dd>\n",
       "\t<dt>$LOSSES</dt>\n",
       "\t\t<dd>51.3</dd>\n",
       "\t<dt>$GAINS</dt>\n",
       "\t\t<dd>48.7</dd>\n",
       "</dl>\n"
      ],
      "text/latex": [
       "\\begin{description}\n",
       "\\item[\\$AVERAGE\\_GAIN] -1.07\n",
       "\\item[\\$BEST] 69.78\n",
       "\\item[\\$WORST] -113.54\n",
       "\\item[\\$LOSSES] 51.3\n",
       "\\item[\\$GAINS] 48.7\n",
       "\\end{description}\n"
      ],
      "text/markdown": [
       "$AVERAGE_GAIN\n",
       ":   -1.07\n",
       "$BEST\n",
       ":   69.78\n",
       "$WORST\n",
       ":   -113.54\n",
       "$LOSSES\n",
       ":   51.3\n",
       "$GAINS\n",
       ":   48.7\n",
       "\n",
       "\n"
      ],
      "text/plain": [
       "$AVERAGE_GAIN\n",
       "[1] -1.07\n",
       "\n",
       "$BEST\n",
       "[1] 69.78\n",
       "\n",
       "$WORST\n",
       "[1] -113.54\n",
       "\n",
       "$LOSSES\n",
       "[1] 51.3\n",
       "\n",
       "$GAINS\n",
       "[1] 48.7\n"
      ]
     },
     "metadata": {},
     "output_type": "display_data"
    },
    {
     "name": "stdout",
     "output_type": "stream",
     "text": [
      "[1] \"4 Trades\"\n"
     ]
    },
    {
     "data": {
      "text/html": [
       "<dl>\n",
       "\t<dt>$AVERAGE_GAIN</dt>\n",
       "\t\t<dd>2.95</dd>\n",
       "\t<dt>$BEST</dt>\n",
       "\t\t<dd>333.98</dd>\n",
       "\t<dt>$WORST</dt>\n",
       "\t\t<dd>-232.64</dd>\n",
       "\t<dt>$LOSSES</dt>\n",
       "\t\t<dd>49.8</dd>\n",
       "\t<dt>$GAINS</dt>\n",
       "\t\t<dd>50.2</dd>\n",
       "</dl>\n"
      ],
      "text/latex": [
       "\\begin{description}\n",
       "\\item[\\$AVERAGE\\_GAIN] 2.95\n",
       "\\item[\\$BEST] 333.98\n",
       "\\item[\\$WORST] -232.64\n",
       "\\item[\\$LOSSES] 49.8\n",
       "\\item[\\$GAINS] 50.2\n",
       "\\end{description}\n"
      ],
      "text/markdown": [
       "$AVERAGE_GAIN\n",
       ":   2.95\n",
       "$BEST\n",
       ":   333.98\n",
       "$WORST\n",
       ":   -232.64\n",
       "$LOSSES\n",
       ":   49.8\n",
       "$GAINS\n",
       ":   50.2\n",
       "\n",
       "\n"
      ],
      "text/plain": [
       "$AVERAGE_GAIN\n",
       "[1] 2.95\n",
       "\n",
       "$BEST\n",
       "[1] 333.98\n",
       "\n",
       "$WORST\n",
       "[1] -232.64\n",
       "\n",
       "$LOSSES\n",
       "[1] 49.8\n",
       "\n",
       "$GAINS\n",
       "[1] 50.2\n"
      ]
     },
     "metadata": {},
     "output_type": "display_data"
    },
    {
     "name": "stdout",
     "output_type": "stream",
     "text": [
      "[1] \"9 Trades\"\n"
     ]
    },
    {
     "data": {
      "text/html": [
       "<dl>\n",
       "\t<dt>$AVERAGE_GAIN</dt>\n",
       "\t\t<dd>18.86</dd>\n",
       "\t<dt>$BEST</dt>\n",
       "\t\t<dd>307.51</dd>\n",
       "\t<dt>$WORST</dt>\n",
       "\t\t<dd>-283.89</dd>\n",
       "\t<dt>$LOSSES</dt>\n",
       "\t\t<dd>43.7</dd>\n",
       "\t<dt>$GAINS</dt>\n",
       "\t\t<dd>56.3</dd>\n",
       "</dl>\n"
      ],
      "text/latex": [
       "\\begin{description}\n",
       "\\item[\\$AVERAGE\\_GAIN] 18.86\n",
       "\\item[\\$BEST] 307.51\n",
       "\\item[\\$WORST] -283.89\n",
       "\\item[\\$LOSSES] 43.7\n",
       "\\item[\\$GAINS] 56.3\n",
       "\\end{description}\n"
      ],
      "text/markdown": [
       "$AVERAGE_GAIN\n",
       ":   18.86\n",
       "$BEST\n",
       ":   307.51\n",
       "$WORST\n",
       ":   -283.89\n",
       "$LOSSES\n",
       ":   43.7\n",
       "$GAINS\n",
       ":   56.3\n",
       "\n",
       "\n"
      ],
      "text/plain": [
       "$AVERAGE_GAIN\n",
       "[1] 18.86\n",
       "\n",
       "$BEST\n",
       "[1] 307.51\n",
       "\n",
       "$WORST\n",
       "[1] -283.89\n",
       "\n",
       "$LOSSES\n",
       "[1] 43.7\n",
       "\n",
       "$GAINS\n",
       "[1] 56.3\n"
      ]
     },
     "metadata": {},
     "output_type": "display_data"
    },
    {
     "name": "stdout",
     "output_type": "stream",
     "text": [
      "[1] \"19 Trades\"\n"
     ]
    },
    {
     "data": {
      "text/html": [
       "<dl>\n",
       "\t<dt>$AVERAGE_GAIN</dt>\n",
       "\t\t<dd>23.58</dd>\n",
       "\t<dt>$BEST</dt>\n",
       "\t\t<dd>315.97</dd>\n",
       "\t<dt>$WORST</dt>\n",
       "\t\t<dd>-294.96</dd>\n",
       "\t<dt>$LOSSES</dt>\n",
       "\t\t<dd>40.2</dd>\n",
       "\t<dt>$GAINS</dt>\n",
       "\t\t<dd>59.8</dd>\n",
       "</dl>\n"
      ],
      "text/latex": [
       "\\begin{description}\n",
       "\\item[\\$AVERAGE\\_GAIN] 23.58\n",
       "\\item[\\$BEST] 315.97\n",
       "\\item[\\$WORST] -294.96\n",
       "\\item[\\$LOSSES] 40.2\n",
       "\\item[\\$GAINS] 59.8\n",
       "\\end{description}\n"
      ],
      "text/markdown": [
       "$AVERAGE_GAIN\n",
       ":   23.58\n",
       "$BEST\n",
       ":   315.97\n",
       "$WORST\n",
       ":   -294.96\n",
       "$LOSSES\n",
       ":   40.2\n",
       "$GAINS\n",
       ":   59.8\n",
       "\n",
       "\n"
      ],
      "text/plain": [
       "$AVERAGE_GAIN\n",
       "[1] 23.58\n",
       "\n",
       "$BEST\n",
       "[1] 315.97\n",
       "\n",
       "$WORST\n",
       "[1] -294.96\n",
       "\n",
       "$LOSSES\n",
       "[1] 40.2\n",
       "\n",
       "$GAINS\n",
       "[1] 59.8\n"
      ]
     },
     "metadata": {},
     "output_type": "display_data"
    },
    {
     "data": {
      "image/png": "[encoded data removed]",
      "text/plain": [
       "Plot with title \"Stat. Arb with  19  Trades\""
      ]
     },
     "metadata": {},
     "output_type": "display_data"
    }
   ],
   "source": [
    "par(mfrow=c(2,2))\n",
    "par(mar=c(2.5, 4.5,1.5, 1.5))\n",
    "\n",
    "nr_scenarios = 1000 #(In Paper: 10000)\n",
    "print(\"1 Trade\")\n",
    "more_trading(nr_scenarios,1,bad_scenarios = F)\n",
    "print(\"4 Trades\")\n",
    "more_trading(nr_scenarios,4)\n",
    "print(\"9 Trades\")\n",
    "more_trading(nr_scenarios,9)\n",
    "print(\"19 Trades\")\n",
    "more_trading(nr_scenarios,19)"
   ]
  },
  {
   "cell_type": "markdown",
   "metadata": {},
   "source": [
    "Eventually we investigate bad_scenarios. We first consider pairs trading in these scenarios"
   ]
  },
  {
   "cell_type": "code",
   "execution_count": 14,
   "metadata": {},
   "outputs": [
    {
     "name": "stdout",
     "output_type": "stream",
     "text": [
      "[1] \"Average Profit\"\n"
     ]
    },
    {
     "data": {
      "text/html": [
       "-7.85"
      ],
      "text/latex": [
       "-7.85"
      ],
      "text/markdown": [
       "-7.85"
      ],
      "text/plain": [
       "[1] -7.85"
      ]
     },
     "metadata": {},
     "output_type": "display_data"
    },
    {
     "name": "stdout",
     "output_type": "stream",
     "text": [
      "[1] \"Best Gain\"\n"
     ]
    },
    {
     "data": {
      "text/html": [
       "21.19"
      ],
      "text/latex": [
       "21.19"
      ],
      "text/markdown": [
       "21.19"
      ],
      "text/plain": [
       "[1] 21.19"
      ]
     },
     "metadata": {},
     "output_type": "display_data"
    },
    {
     "name": "stdout",
     "output_type": "stream",
     "text": [
      "[1] \"Worst Loss\"\n"
     ]
    },
    {
     "data": {
      "text/html": [
       "-22.72"
      ],
      "text/latex": [
       "-22.72"
      ],
      "text/markdown": [
       "-22.72"
      ],
      "text/plain": [
       "[1] -22.72"
      ]
     },
     "metadata": {},
     "output_type": "display_data"
    },
    {
     "name": "stdout",
     "output_type": "stream",
     "text": [
      "[1] \"% Loss Scenarios\"\n"
     ]
    },
    {
     "data": {
      "text/html": [
       "91.4"
      ],
      "text/latex": [
       "91.4"
      ],
      "text/markdown": [
       "91.4"
      ],
      "text/plain": [
       "[1] 91.4"
      ]
     },
     "metadata": {},
     "output_type": "display_data"
    },
    {
     "name": "stdout",
     "output_type": "stream",
     "text": [
      "[1] \"% Gain Scenarios\"\n"
     ]
    },
    {
     "data": {
      "text/html": [
       "8.6"
      ],
      "text/latex": [
       "8.6"
      ],
      "text/markdown": [
       "8.6"
      ],
      "text/plain": [
       "[1] 8.6"
      ]
     },
     "metadata": {},
     "output_type": "display_data"
    }
   ],
   "source": [
    "########################################################\n",
    "########### Investigating Bad Scenarios ################\n",
    "########################################################\n",
    "N<-5 # different Parameters\n",
    "n<-100 # time steps \n",
    "n_discr<-50\n",
    "time_diff<-1\n",
    "kk<-seq(0.005,0.1,length=N)\n",
    "mu<-seq(0,0,length=N)\n",
    "sigma<-seq(1,1,length=N)\n",
    "S_0<-0\n",
    "\n",
    "\n",
    "########## Picking the worst Scenarios\n",
    "#Nr of bad scenarios\n",
    "bad_seeds<-NULL\n",
    "nr_possible_scenarios <-10000 \n",
    "for(s in 1:nr_possible_scenarios){\n",
    "set.seed(s)\n",
    "Y<-AR_1(time_diff,N=n+1,mu[1],k=kk[1],sigma[1],plot=F,plot_threshold = 2*sigma,S_0=S_0)\n",
    "if(abs(Y[n+1])>12){bad_seeds<-c(bad_seeds,s)}\n",
    "}\n",
    "\n",
    "bad_seeds_copy<-bad_seeds\n",
    "bad_seeds<-bad_seeds_copy[1:1000]\n",
    "### Investigating Success on these scenarios\n",
    "\n",
    "### Pairs Trading ####\n",
    "nr_gains<-0\n",
    "nr_losses<-0\n",
    "gain<-0\n",
    "best<-0\n",
    "worst<-0\n",
    "ff<-numeric(length(bad_seeds))\n",
    "for(s in bad_seeds){\n",
    "  set.seed(s)\n",
    "  S<-AR_1(time_diff,N=n+1,mu[1],k=kk[1],sigma[1],plot=F,plot_threshold = 2*sigma,S_0=S_0)\n",
    "  D1<-Delta_strat(N=n+1,eps=2*sigma[1],delta=0.001,S,mu[1],intermediate_NR=3)\n",
    "  f<-Gain(D1,(n+1),S)[n+1]\n",
    "  ff[s]<-f\n",
    "  gain<-gain+f\n",
    "  if(f<0){nr_losses<-nr_losses+1}\n",
    "  if(f>=0){nr_gains<-nr_gains+1}\n",
    "  if(f>best){best<-f}\n",
    "  if(f<worst){worst<-f}\n",
    "}\n",
    "print(\"Average Profit\")\n",
    "round(gain/length(bad_seeds),2)\n",
    "print(\"Best Gain\")\n",
    "round(best,2)\n",
    "print(\"Worst Loss\")\n",
    "round(worst,2)\n",
    "print(\"% Loss Scenarios\")\n",
    "round(100*nr_losses/length(bad_seeds),2)\n",
    "print(\"% Gain Scenarios\")\n",
    "round(100*nr_gains/length(bad_seeds),2)"
   ]
  },
  {
   "cell_type": "markdown",
   "metadata": {},
   "source": [
    "Then, we compute the corresponding profit for statistical arbitrage and plot the histograms"
   ]
  },
  {
   "cell_type": "code",
   "execution_count": 15,
   "metadata": {},
   "outputs": [
    {
     "data": {
      "text/html": [
       "<dl>\n",
       "\t<dt>$AVERAGE_GAIN</dt>\n",
       "\t\t<dd>1.26</dd>\n",
       "\t<dt>$BEST</dt>\n",
       "\t\t<dd>294.33</dd>\n",
       "\t<dt>$WORST</dt>\n",
       "\t\t<dd>-413.55</dd>\n",
       "\t<dt>$LOSSES</dt>\n",
       "\t\t<dd>46.7</dd>\n",
       "\t<dt>$GAINS</dt>\n",
       "\t\t<dd>53.3</dd>\n",
       "</dl>\n"
      ],
      "text/latex": [
       "\\begin{description}\n",
       "\\item[\\$AVERAGE\\_GAIN] 1.26\n",
       "\\item[\\$BEST] 294.33\n",
       "\\item[\\$WORST] -413.55\n",
       "\\item[\\$LOSSES] 46.7\n",
       "\\item[\\$GAINS] 53.3\n",
       "\\end{description}\n"
      ],
      "text/markdown": [
       "$AVERAGE_GAIN\n",
       ":   1.26\n",
       "$BEST\n",
       ":   294.33\n",
       "$WORST\n",
       ":   -413.55\n",
       "$LOSSES\n",
       ":   46.7\n",
       "$GAINS\n",
       ":   53.3\n",
       "\n",
       "\n"
      ],
      "text/plain": [
       "$AVERAGE_GAIN\n",
       "[1] 1.26\n",
       "\n",
       "$BEST\n",
       "[1] 294.33\n",
       "\n",
       "$WORST\n",
       "[1] -413.55\n",
       "\n",
       "$LOSSES\n",
       "[1] 46.7\n",
       "\n",
       "$GAINS\n",
       "[1] 53.3\n"
      ]
     },
     "metadata": {},
     "output_type": "display_data"
    },
    {
     "data": {
      "image/png": "[encoded data removed]",
      "text/plain": [
       "Plot with title \"Stat. Arb with  3  Trades\""
      ]
     },
     "metadata": {},
     "output_type": "display_data"
    }
   ],
   "source": [
    "par(mfrow=c(1,2))\n",
    "hist(ff,xlab=\"Average Gain\",main=paste(\"Pairs Trade, Bad Scenarios\"),breaks=50)\n",
    "more_trading(1000,3,bad_scenarios=T)"
   ]
  }
 ],
 "metadata": {
  "kernelspec": {
   "display_name": "R",
   "language": "R",
   "name": "ir"
  },
  "language_info": {
   "codemirror_mode": "r",
   "file_extension": ".r",
   "mimetype": "text/x-r-source",
   "name": "R",
   "pygments_lexer": "r",
   "version": "3.6.1"
  }
 },
 "nbformat": 4,
 "nbformat_minor": 4
}
